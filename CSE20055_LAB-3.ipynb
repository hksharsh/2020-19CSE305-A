{
  "cells": [
    {
      "cell_type": "code",
      "execution_count": 1,
      "metadata": {
        "id": "xuLCzCDSabNo"
      },
      "outputs": [],
      "source": [
        "import pandas as pd\n",
        "import numpy as np\n",
        "import matplotlib.pyplot as plt\n"
      ]
    },
    {
      "cell_type": "code",
      "execution_count": 2,
      "metadata": {
        "colab": {
          "base_uri": "https://localhost:8080/",
          "height": 959
        },
        "id": "MSGkURCUab9a",
        "outputId": "41ba0e55-6f55-4394-b146-3b631a795013"
      },
      "outputs": [
        {
          "data": {
            "text/html": [
              "<div>\n",
              "<style scoped>\n",
              "    .dataframe tbody tr th:only-of-type {\n",
              "        vertical-align: middle;\n",
              "    }\n",
              "\n",
              "    .dataframe tbody tr th {\n",
              "        vertical-align: top;\n",
              "    }\n",
              "\n",
              "    .dataframe thead th {\n",
              "        text-align: right;\n",
              "    }\n",
              "</style>\n",
              "<table border=\"1\" class=\"dataframe\">\n",
              "  <thead>\n",
              "    <tr style=\"text-align: right;\">\n",
              "      <th></th>\n",
              "      <th>State</th>\n",
              "      <th>2019</th>\n",
              "      <th>2020</th>\n",
              "      <th>2021</th>\n",
              "      <th>Total_Crime</th>\n",
              "    </tr>\n",
              "  </thead>\n",
              "  <tbody>\n",
              "    <tr>\n",
              "      <th>0</th>\n",
              "      <td>Andra Pradesh</td>\n",
              "      <td>119229</td>\n",
              "      <td>188997</td>\n",
              "      <td>179611</td>\n",
              "      <td>487837</td>\n",
              "    </tr>\n",
              "    <tr>\n",
              "      <th>1</th>\n",
              "      <td>Arunachal Pradesh</td>\n",
              "      <td>2590</td>\n",
              "      <td>2244</td>\n",
              "      <td>2626</td>\n",
              "      <td>7460</td>\n",
              "    </tr>\n",
              "    <tr>\n",
              "      <th>2</th>\n",
              "      <td>Assam</td>\n",
              "      <td>123512</td>\n",
              "      <td>111558</td>\n",
              "      <td>119883</td>\n",
              "      <td>354953</td>\n",
              "    </tr>\n",
              "    <tr>\n",
              "      <th>3</th>\n",
              "      <td>Bihar</td>\n",
              "      <td>197935</td>\n",
              "      <td>194698</td>\n",
              "      <td>186006</td>\n",
              "      <td>578639</td>\n",
              "    </tr>\n",
              "    <tr>\n",
              "      <th>4</th>\n",
              "      <td>Chhattisgarh</td>\n",
              "      <td>61256</td>\n",
              "      <td>65216</td>\n",
              "      <td>70519</td>\n",
              "      <td>196991</td>\n",
              "    </tr>\n",
              "    <tr>\n",
              "      <th>5</th>\n",
              "      <td>Delhi</td>\n",
              "      <td>299475</td>\n",
              "      <td>249192</td>\n",
              "      <td>291904</td>\n",
              "      <td>840571</td>\n",
              "    </tr>\n",
              "    <tr>\n",
              "      <th>6</th>\n",
              "      <td>Goa</td>\n",
              "      <td>2465</td>\n",
              "      <td>3393</td>\n",
              "      <td>2099</td>\n",
              "      <td>7957</td>\n",
              "    </tr>\n",
              "    <tr>\n",
              "      <th>7</th>\n",
              "      <td>Gujarat</td>\n",
              "      <td>139503</td>\n",
              "      <td>381849</td>\n",
              "      <td>273056</td>\n",
              "      <td>794408</td>\n",
              "    </tr>\n",
              "    <tr>\n",
              "      <th>8</th>\n",
              "      <td>Haryana</td>\n",
              "      <td>111323</td>\n",
              "      <td>103276</td>\n",
              "      <td>112720</td>\n",
              "      <td>327319</td>\n",
              "    </tr>\n",
              "    <tr>\n",
              "      <th>9</th>\n",
              "      <td>Himachal Pradesh</td>\n",
              "      <td>14480</td>\n",
              "      <td>14803</td>\n",
              "      <td>13041</td>\n",
              "      <td>42324</td>\n",
              "    </tr>\n",
              "    <tr>\n",
              "      <th>10</th>\n",
              "      <td>Jharkhand</td>\n",
              "      <td>50048</td>\n",
              "      <td>51033</td>\n",
              "      <td>47684</td>\n",
              "      <td>148765</td>\n",
              "    </tr>\n",
              "    <tr>\n",
              "      <th>11</th>\n",
              "      <td>Karnataka</td>\n",
              "      <td>120165</td>\n",
              "      <td>106350</td>\n",
              "      <td>115728</td>\n",
              "      <td>342243</td>\n",
              "    </tr>\n",
              "    <tr>\n",
              "      <th>12</th>\n",
              "      <td>Kerala</td>\n",
              "      <td>175810</td>\n",
              "      <td>149099</td>\n",
              "      <td>142643</td>\n",
              "      <td>467552</td>\n",
              "    </tr>\n",
              "    <tr>\n",
              "      <th>13</th>\n",
              "      <td>Madhya Pradesh</td>\n",
              "      <td>246470</td>\n",
              "      <td>283881</td>\n",
              "      <td>304066</td>\n",
              "      <td>834417</td>\n",
              "    </tr>\n",
              "    <tr>\n",
              "      <th>14</th>\n",
              "      <td>Maharashtra</td>\n",
              "      <td>341084</td>\n",
              "      <td>394017</td>\n",
              "      <td>367218</td>\n",
              "      <td>1102319</td>\n",
              "    </tr>\n",
              "    <tr>\n",
              "      <th>15</th>\n",
              "      <td>Manipur</td>\n",
              "      <td>2830</td>\n",
              "      <td>2349</td>\n",
              "      <td>2484</td>\n",
              "      <td>7663</td>\n",
              "    </tr>\n",
              "    <tr>\n",
              "      <th>16</th>\n",
              "      <td>Meghalaya</td>\n",
              "      <td>3125</td>\n",
              "      <td>2871</td>\n",
              "      <td>2672</td>\n",
              "      <td>8668</td>\n",
              "    </tr>\n",
              "    <tr>\n",
              "      <th>17</th>\n",
              "      <td>Mizoram</td>\n",
              "      <td>2379</td>\n",
              "      <td>1787</td>\n",
              "      <td>2467</td>\n",
              "      <td>6633</td>\n",
              "    </tr>\n",
              "    <tr>\n",
              "      <th>18</th>\n",
              "      <td>Nagaland</td>\n",
              "      <td>1117</td>\n",
              "      <td>1022</td>\n",
              "      <td>1033</td>\n",
              "      <td>3172</td>\n",
              "    </tr>\n",
              "    <tr>\n",
              "      <th>19</th>\n",
              "      <td>Odisha</td>\n",
              "      <td>96033</td>\n",
              "      <td>108533</td>\n",
              "      <td>124956</td>\n",
              "      <td>329522</td>\n",
              "    </tr>\n",
              "    <tr>\n",
              "      <th>20</th>\n",
              "      <td>Punjab</td>\n",
              "      <td>44697</td>\n",
              "      <td>49870</td>\n",
              "      <td>46454</td>\n",
              "      <td>141021</td>\n",
              "    </tr>\n",
              "    <tr>\n",
              "      <th>21</th>\n",
              "      <td>Rajasthan</td>\n",
              "      <td>225306</td>\n",
              "      <td>193279</td>\n",
              "      <td>214552</td>\n",
              "      <td>633137</td>\n",
              "    </tr>\n",
              "    <tr>\n",
              "      <th>22</th>\n",
              "      <td>Sikkim</td>\n",
              "      <td>632</td>\n",
              "      <td>504</td>\n",
              "      <td>532</td>\n",
              "      <td>1668</td>\n",
              "    </tr>\n",
              "    <tr>\n",
              "      <th>23</th>\n",
              "      <td>Tamil Nadu</td>\n",
              "      <td>168116</td>\n",
              "      <td>891700</td>\n",
              "      <td>322852</td>\n",
              "      <td>1382668</td>\n",
              "    </tr>\n",
              "    <tr>\n",
              "      <th>24</th>\n",
              "      <td>Telangana</td>\n",
              "      <td>118338</td>\n",
              "      <td>135885</td>\n",
              "      <td>146131</td>\n",
              "      <td>400354</td>\n",
              "    </tr>\n",
              "    <tr>\n",
              "      <th>25</th>\n",
              "      <td>Tripura</td>\n",
              "      <td>5336</td>\n",
              "      <td>4010</td>\n",
              "      <td>4133</td>\n",
              "      <td>13479</td>\n",
              "    </tr>\n",
              "    <tr>\n",
              "      <th>26</th>\n",
              "      <td>Uttar Pradesh</td>\n",
              "      <td>353131</td>\n",
              "      <td>355110</td>\n",
              "      <td>357905</td>\n",
              "      <td>1066146</td>\n",
              "    </tr>\n",
              "    <tr>\n",
              "      <th>27</th>\n",
              "      <td>Uttarakhand</td>\n",
              "      <td>12081</td>\n",
              "      <td>13812</td>\n",
              "      <td>15704</td>\n",
              "      <td>41597</td>\n",
              "    </tr>\n",
              "    <tr>\n",
              "      <th>28</th>\n",
              "      <td>West Bengal</td>\n",
              "      <td>157506</td>\n",
              "      <td>158060</td>\n",
              "      <td>157498</td>\n",
              "      <td>473064</td>\n",
              "    </tr>\n",
              "  </tbody>\n",
              "</table>\n",
              "</div>"
            ],
            "text/plain": [
              "                State    2019    2020    2021  Total_Crime\n",
              "0       Andra Pradesh  119229  188997  179611       487837\n",
              "1   Arunachal Pradesh    2590    2244    2626         7460\n",
              "2               Assam  123512  111558  119883       354953\n",
              "3               Bihar  197935  194698  186006       578639\n",
              "4        Chhattisgarh   61256   65216   70519       196991\n",
              "5               Delhi  299475  249192  291904       840571\n",
              "6                 Goa    2465    3393    2099         7957\n",
              "7             Gujarat  139503  381849  273056       794408\n",
              "8             Haryana  111323  103276  112720       327319\n",
              "9    Himachal Pradesh   14480   14803   13041        42324\n",
              "10          Jharkhand   50048   51033   47684       148765\n",
              "11          Karnataka  120165  106350  115728       342243\n",
              "12             Kerala  175810  149099  142643       467552\n",
              "13     Madhya Pradesh  246470  283881  304066       834417\n",
              "14        Maharashtra  341084  394017  367218      1102319\n",
              "15            Manipur    2830    2349    2484         7663\n",
              "16          Meghalaya    3125    2871    2672         8668\n",
              "17            Mizoram    2379    1787    2467         6633\n",
              "18           Nagaland    1117    1022    1033         3172\n",
              "19             Odisha   96033  108533  124956       329522\n",
              "20             Punjab   44697   49870   46454       141021\n",
              "21          Rajasthan  225306  193279  214552       633137\n",
              "22             Sikkim     632     504     532         1668\n",
              "23         Tamil Nadu  168116  891700  322852      1382668\n",
              "24          Telangana  118338  135885  146131       400354\n",
              "25            Tripura    5336    4010    4133        13479\n",
              "26      Uttar Pradesh  353131  355110  357905      1066146\n",
              "27        Uttarakhand   12081   13812   15704        41597\n",
              "28        West Bengal  157506  158060  157498       473064"
            ]
          },
          "execution_count": 2,
          "metadata": {},
          "output_type": "execute_result"
        }
      ],
      "source": [
        "dataset = pd.read_excel('dataset.xlsx')\n",
        "dataset['Total_Crime'] = dataset.iloc[:,1:].sum(axis=1)\n",
        "dataset"
      ]
    },
    {
      "cell_type": "code",
      "execution_count": 3,
      "metadata": {
        "colab": {
          "base_uri": "https://localhost:8080/"
        },
        "id": "bE9K0dXGeCBW",
        "outputId": "e1f49bd2-11ec-42ec-9d0e-3e17a01e73ef"
      },
      "outputs": [
        {
          "name": "stdout",
          "output_type": "stream",
          "text": [
            "13479.0\n",
            "578639.0\n"
          ]
        }
      ],
      "source": [
        "q_25 = dataset.Total_Crime.quantile(0.25)\n",
        "q_75 = dataset.Total_Crime.quantile(0.75)\n",
        "print(q_25)\n",
        "print(q_75)\n",
        "\n"
      ]
    },
    {
      "cell_type": "code",
      "execution_count": 4,
      "metadata": {
        "colab": {
          "base_uri": "https://localhost:8080/"
        },
        "id": "3oo7y2Rie0ae",
        "outputId": "77884451-6dd6-479a-b74a-ff6066b3c1f5"
      },
      "outputs": [
        {
          "name": "stdout",
          "output_type": "stream",
          "text": [
            "                State    2019    2020    2021  Total_Crime    Label\n",
            "0       Andra Pradesh  119229  188997  179611       487837  Average\n",
            "1   Arunachal Pradesh    2590    2244    2626         7460      Low\n",
            "2               Assam  123512  111558  119883       354953  Average\n",
            "3               Bihar  197935  194698  186006       578639  Average\n",
            "4        Chhattisgarh   61256   65216   70519       196991  Average\n",
            "5               Delhi  299475  249192  291904       840571     High\n",
            "6                 Goa    2465    3393    2099         7957      Low\n",
            "7             Gujarat  139503  381849  273056       794408     High\n",
            "8             Haryana  111323  103276  112720       327319  Average\n",
            "9    Himachal Pradesh   14480   14803   13041        42324  Average\n",
            "10          Jharkhand   50048   51033   47684       148765  Average\n",
            "11          Karnataka  120165  106350  115728       342243  Average\n",
            "12             Kerala  175810  149099  142643       467552  Average\n",
            "13     Madhya Pradesh  246470  283881  304066       834417     High\n",
            "14        Maharashtra  341084  394017  367218      1102319     High\n",
            "15            Manipur    2830    2349    2484         7663      Low\n",
            "16          Meghalaya    3125    2871    2672         8668      Low\n",
            "17            Mizoram    2379    1787    2467         6633      Low\n",
            "18           Nagaland    1117    1022    1033         3172      Low\n",
            "19             Odisha   96033  108533  124956       329522  Average\n",
            "20             Punjab   44697   49870   46454       141021  Average\n",
            "21          Rajasthan  225306  193279  214552       633137     High\n",
            "22             Sikkim     632     504     532         1668      Low\n",
            "23         Tamil Nadu  168116  891700  322852      1382668     High\n",
            "24          Telangana  118338  135885  146131       400354  Average\n",
            "25            Tripura    5336    4010    4133        13479  Average\n",
            "26      Uttar Pradesh  353131  355110  357905      1066146     High\n",
            "27        Uttarakhand   12081   13812   15704        41597  Average\n",
            "28        West Bengal  157506  158060  157498       473064  Average\n"
          ]
        }
      ],
      "source": [
        "Label = []\n",
        "for p in dataset.iloc[:,4]:\n",
        "  if p>q_75:\n",
        "    Label.append('High')\n",
        "  elif p<q_25:\n",
        "    Label.append('Low')\n",
        "  else:\n",
        "    Label.append('Average')\n",
        "\n",
        "dataset['Label'] = Label\n",
        "print(dataset)"
      ]
    },
    {
      "cell_type": "code",
      "execution_count": 5,
      "metadata": {
        "colab": {
          "base_uri": "https://localhost:8080/"
        },
        "id": "Wu1i2H7erFsx",
        "outputId": "bb6dad0f-9a57-4c2c-de94-46c122823cc5"
      },
      "outputs": [
        {
          "name": "stdout",
          "output_type": "stream",
          "text": [
            "2019           253297.857143\n",
            "2020           392718.285714\n",
            "2021           304507.571429\n",
            "Total_Crime    950523.714286\n",
            "dtype: float64\n",
            "2019            93849.933333\n",
            "2020            97013.333333\n",
            "2021            98847.400000\n",
            "Total_Crime    289710.666667\n",
            "dtype: float64\n",
            "769308.1627575468\n"
          ]
        },
        {
          "name": "stderr",
          "output_type": "stream",
          "text": [
            "c:\\Users\\harsh\\AppData\\Local\\Programs\\Python\\Python39\\lib\\site-packages\\numpy\\core\\fromnumeric.py:3472: FutureWarning: Dropping of nuisance columns in DataFrame reductions (with 'numeric_only=None') is deprecated; in a future version this will raise TypeError.  Select only valid columns before calling the reduction.\n",
            "  return mean(axis=axis, dtype=dtype, out=out, **kwargs)\n",
            "c:\\Users\\harsh\\AppData\\Local\\Programs\\Python\\Python39\\lib\\site-packages\\numpy\\core\\fromnumeric.py:3613: FutureWarning: Dropping of nuisance columns in DataFrame reductions (with 'numeric_only=None') is deprecated; in a future version this will raise TypeError.  Select only valid columns before calling the reduction.\n",
            "  return std(axis=axis, dtype=dtype, out=out, ddof=ddof, **kwargs)\n"
          ]
        }
      ],
      "source": [
        "High_Mean = np.mean(dataset.loc[dataset['Label']=='High'],axis=0)\n",
        "High_SD = np.std(dataset.loc[dataset['Label']=='High'],axis=0)\n",
        "\n",
        "Average_Mean = np.mean(dataset.loc[dataset['Label']=='Average'],axis=0)\n",
        "Average_SD = np.std(dataset.loc[dataset['Label']=='Average'],axis=0)\n",
        "\n",
        "print(High_Mean)\n",
        "print(Average_Mean)\n",
        "\n",
        "InterClass_Spread = np.linalg.norm(High_Mean - Average_Mean)\n",
        "print(InterClass_Spread)\n",
        "\n",
        "\n"
      ]
    },
    {
      "cell_type": "code",
      "execution_count": 6,
      "metadata": {
        "colab": {
          "base_uri": "https://localhost:8080/",
          "height": 330
        },
        "id": "3bIXP1OF_god",
        "outputId": "3a42de2b-4b3a-430b-f5b7-5bf3d2bc7c5f"
      },
      "outputs": [
        {
          "data": {
            "image/png": "[encoded data removed]",
            "text/plain": [
              "<Figure size 640x480 with 1 Axes>"
            ]
          },
          "metadata": {},
          "output_type": "display_data"
        },
        {
          "name": "stdout",
          "output_type": "stream",
          "text": [
            "Mean:  110205.93103448275\n",
            "Variance:  11458792927.352217\n"
          ]
        }
      ],
      "source": [
        "np.histogram(dataset.iloc[:,1],bins=[0,35000,70000,105000,140000,175000,210000,245000,280000,315000,350000],density=True)\n",
        "plt.hist(dataset.iloc[:,1],bins=[0,35000,70000,105000,140000,175000,210000,245000,280000,315000,350000])\n",
        "plt.xlabel('Cases Reported')\n",
        "plt.ylabel('Frequency')\n",
        "plt.title(\"2019 Crime Statistics Density\")\n",
        "plt.show()\n",
        "mean_2019 = dataset.iloc[:,1].mean()\n",
        "var_2019 = dataset.iloc[:,1].var()\n",
        "print(\"Mean: \",mean_2019)\n",
        "print(\"Variance: \",var_2019)"
      ]
    },
    {
      "cell_type": "code",
      "execution_count": 7,
      "metadata": {
        "colab": {
          "base_uri": "https://localhost:8080/",
          "height": 472
        },
        "id": "dHpkavtIDta0",
        "outputId": "7dbc6504-f6d9-4b8a-88fe-424d2bd8899e"
      },
      "outputs": [
        {
          "name": "stdout",
          "output_type": "stream",
          "text": [
            "Minkowski Distance for r = 1: 1321018.0\n",
            "Minkowski Distance for r = 2: 772378.9957009447\n",
            "Minkowski Distance for r = 3: 732988.7993807108\n",
            "Minkowski Distance for r = 4: 725876.7881991196\n",
            "Minkowski Distance for r = 5: 724194.694728596\n",
            "Minkowski Distance for r = 6: 723754.2556779656\n",
            "Minkowski Distance for r = 7: 723632.8676200357\n",
            "Minkowski Distance for r = 8: 723598.3208406431\n",
            "Minkowski Distance for r = 9: 723588.263488001\n",
            "Minkowski Distance for r = 10: 723585.2851575338\n"
          ]
        },
        {
          "data": {
            "image/png": "[encoded data removed]",
            "text/plain": [
              "<Figure size 640x480 with 1 Axes>"
            ]
          },
          "metadata": {},
          "output_type": "display_data"
        }
      ],
      "source": [
        "def minkowski_distance(a, b, p):\n",
        "\treturn sum(abs(e1-e2)**p for e1, e2 in zip(a,b))**(1/p)\n",
        " \n",
        "pl_dist = []\n",
        "for i in range(1,11):\n",
        "  dist = minkowski_distance(dataset.iloc[:,1], dataset.iloc[:,2], i)\n",
        "  print(\"Minkowski Distance for r = \" + str(i) + \": \" + str(dist))\n",
        "  pl_dist.append(dist)\n",
        "\n",
        "plt.plot(pl_dist)\n",
        "plt.xlabel(\"R Value\")\n",
        "plt.ylabel(\"Minkowski Distance\")\n",
        "plt.title(\"Minkowski Distance vs R\")\n",
        "plt.show()"
      ]
    },
    {
      "cell_type": "code",
      "execution_count": 26,
      "metadata": {
        "colab": {
          "base_uri": "https://localhost:8080/",
          "height": 369
        },
        "id": "SpdjBVBxHUTD",
        "outputId": "d49f523f-2b64-47d4-ccfe-c0e8e4fa0986"
      },
      "outputs": [
        {
          "name": "stdout",
          "output_type": "stream",
          "text": [
            "0.8571428571428571\n",
            "Predictions from the classifier:\n",
            "['Average' 'Average' 'Low' 'Low' 'Low' 'Low' 'Average']\n",
            "Target values:\n",
            "['Average' 'Average' 'Low' 'Low' 'Average' 'Low' 'Average']\n"
          ]
        },
        {
          "data": {
            "image/png": "[encoded data removed]",
            "text/plain": [
              "<Figure size 640x480 with 1 Axes>"
            ]
          },
          "metadata": {},
          "output_type": "display_data"
        }
      ],
      "source": [
        "dataset_filtered = dataset[dataset['Label'] != 'High']\n",
        "x = dataset_filtered.iloc[:,:-1].values\n",
        "y = dataset_filtered.iloc[:,-1].values\n",
        "\n",
        "from sklearn.model_selection import train_test_split\n",
        "x_train, x_test, y_train, y_test = train_test_split(x,y,test_size=0.3)\n",
        "\n",
        "from sklearn.neighbors import KNeighborsClassifier\n",
        "knn = KNeighborsClassifier(n_neighbors=3)\n",
        "knn.fit(x_train[:,1:-1], y_train)\n",
        "\n",
        "print(knn.score(x_test[:,1:-1], y_test))\n",
        "predicted = knn.predict(x_test[:,1:-1])\n",
        "print(\"Predictions from the classifier:\")\n",
        "print(predicted)\n",
        "print(\"Target values:\")\n",
        "print(y_test)\n",
        "\n",
        "neighbors = np.arange(1, 11)\n",
        "train_accuracy = np.empty(len(neighbors))\n",
        "test_accuracy = np.empty(len(neighbors))\n",
        "  \n",
        "for i, k in enumerate(neighbors):\n",
        "    neigh = KNeighborsClassifier(n_neighbors=k)\n",
        "    x=x_train[:,1:-1]\n",
        "    neigh.fit(x, y_train)\n",
        "\n",
        "    train_accuracy[i] = neigh.score(x_train[:,1:-1], y_train) \n",
        "    test_accuracy[i] = neigh.score(x_test[:,1:-1], y_test)\n",
        "  \n",
        "plt.plot(neighbors, test_accuracy, label = 'Testing Dataset Accuracy')\n",
        "plt.plot(neighbors, train_accuracy, label = 'Training Dataset Accuracy')\n",
        "  \n",
        "plt.legend()\n",
        "plt.xlabel('N_Neighbors')\n",
        "plt.ylabel('Accuracy')\n",
        "plt.show()\n"
      ]
    }
  ],
  "metadata": {
    "colab": {
      "collapsed_sections": [],
      "provenance": []
    },
    "kernelspec": {
      "display_name": "Python 3.9.0 64-bit",
      "language": "python",
      "name": "python3"
    },
    "language_info": {
      "codemirror_mode": {
        "name": "ipython",
        "version": 3
      },
      "file_extension": ".py",
      "mimetype": "text/x-python",
      "name": "python",
      "nbconvert_exporter": "python",
      "pygments_lexer": "ipython3",
      "version": "3.9.0"
    },
    "vscode": {
      "interpreter": {
        "hash": "e7420c16fed80ca44bc7227413fb390036ba73eba4a8216c7e659bd6f2f9b1f1"
      }
    }
  },
  "nbformat": 4,
  "nbformat_minor": 0
}
